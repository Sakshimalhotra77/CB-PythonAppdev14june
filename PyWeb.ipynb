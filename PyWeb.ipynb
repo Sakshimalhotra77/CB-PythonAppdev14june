{
 "cells": [
  {
   "cell_type": "markdown",
   "metadata": {},
   "source": [
    "# <p style=\"text-align:center;font-size:70px;background-color:#0ad61b;color:white;font-style:italic;\">Python for web</p>\n",
    "\n",
    "![](http://www.blog.skytopper.com/wp-content/uploads/2015/06/Global-computer-network.jpg)\n",
    "\n",
    "This bootcamp is all about interacting with **web** using Python programming language!\n",
    "\n",
    "In this bootcamp, we will learn:\n",
    "\n",
    "- to work with web APIs\n",
    "- to download content from web\n",
    "- web scraping\n",
    "- sending Emails\n",
    "- web automation\n",
    "\n",
    "using simple python scripts!"
   ]
  },
  {
   "cell_type": "markdown",
   "metadata": {},
   "source": [
    "# 1. Working with web APIs\n",
    "\n",
    "- **What is API?**<br>\n",
    "    API is a set of routines, protocols, and tools for building software applications. An API specifies how software components should interact. \n",
    "![](https://www.retriever.nl/wp-content/uploads/2016/11/api-321x250.png)\n",
    "-------------\n",
    "\n",
    "- **What is web API?**<br>\n",
    "    Web API is a framework for building HTTP services that can be consumed by a broad range of clients including browsers, mobiles, iphone and tablets.\n",
    "![](http://dselva.co.in/blog/wp-content/uploads/2017/09/Web-APIs.png)\n",
    "-----------------\n",
    "- **Some examples of public web APIs:**\n",
    "    - [Facebook Graph API](https://developers.facebook.com/docs/graph-api)\n",
    "    - [Twitter API](https://dev.twitter.com/rest/public)\n",
    "    - [Google API explorer](https://developers.google.com/apis-explorer/#p/)\n",
    "--------------\n",
    "\n",
    "- **What is REST?**<br>\n",
    "    REST is an architectural style followed by web services, in which, they allow requesting systems to access and manipulate their Web resources using a uniform and predefined set of **stateless operations**.\n",
    "    \n",
    "    >In computing, a stateless protocol is a communications protocol in which no information is retained by either sender or receiver. The sender transmits a packet to the receiver and does not expect an acknowledgment of receipt. There is nothing saved that has to be remembered by the next transaction. The server must be able to completely understand the client request without using any server context or server session state. \n",
    "    \n",
    "   Advantages of REST:\n",
    "   - As the transactions are stateless, we can direct them to any instance of the web service. (As no sessions are involved). Hence, the web service can scale to accommodate load changes.\n",
    "   - Binding to a service through an API is a matter of controlling how the URL is decoded.\n",
    "\n",
    "-----------------\n",
    "- **Types of HTTP requests**\n",
    "    - GET\n",
    "    - POST\n",
    "    - DELETE\n",
    "    - PUT\n",
    "    - PATCH, etc.\n",
    "    \n",
    "![](http://lotsofthing.com/wp-content/uploads/2017/11/rest-api-1.jpg)"
   ]
  },
  {
   "cell_type": "markdown",
   "metadata": {},
   "source": [
    "### HTTP  for humans: [requests](http://docs.python-requests.org/en/master/)\n",
    "\n",
    "<img src=\"http://docs.python-requests.org/en/master/_static/requests-sidebar.png\"  height=200 width=200>\n",
    "\n",
    "\n",
    "- Requests is one of the most downloaded Python packages of all time, pulling in over 7,000,000 downloads every month.All the cool kids are doing it\n",
    "\n",
    "- Recreational use of other HTTP libraries may result in dangerous side-effects, including: security vulnerabilities, verbose code, reinventing the wheel, constantly reading documentation, depression, headaches, or even death. Requests is the only Non-GMO HTTP library for Python, safe for human consumption.\n",
    "\n",
    "- Python HTTP: When in doubt, or when not in doubt, use Requests. Beautiful, simple, Pythonic.\n",
    "\n",
    "***Everybody loves it!***\n",
    "\n",
    "#### Installation\n",
    "\n",
    "```\n",
    "pip install requests\n",
    "```"
   ]
  },
  {
   "cell_type": "markdown",
   "metadata": {},
   "source": [
    "## GET request\n",
    "\n",
    "### Example 1\n",
    "\n",
    "http://graph.facebook.com/4/picture?type=large\n",
    "\n",
    "![](http://graph.facebook.com/100002023231822/picture?type=large)"
   ]
  },
  {
   "cell_type": "code",
   "execution_count": 1,
   "metadata": {},
   "outputs": [],
   "source": [
    "import requests"
   ]
  },
  {
   "cell_type": "code",
   "execution_count": 2,
   "metadata": {},
   "outputs": [],
   "source": [
    "url = \"http://graph.facebook.com/4/picture?type=large\"\n",
    "r = requests.get(url)"
   ]
  },
  {
   "cell_type": "code",
   "execution_count": 4,
   "metadata": {},
   "outputs": [],
   "source": [
    "with open(\"markie.jpg\", \"wb\") as file:\n",
    "    file.write(r.content)"
   ]
  },
  {
   "cell_type": "code",
   "execution_count": 6,
   "metadata": {},
   "outputs": [],
   "source": [
    "import json"
   ]
  },
  {
   "cell_type": "code",
   "execution_count": 17,
   "metadata": {},
   "outputs": [],
   "source": [
    "import time"
   ]
  },
  {
   "cell_type": "code",
   "execution_count": 18,
   "metadata": {},
   "outputs": [],
   "source": [
    "time.sleep(30)"
   ]
  },
  {
   "cell_type": "code",
   "execution_count": null,
   "metadata": {},
   "outputs": [],
   "source": [
    "url = \"http://mapps.cricbuzz.com/cbzios/match/livematches\""
   ]
  },
  {
   "cell_type": "code",
   "execution_count": 11,
   "metadata": {},
   "outputs": [],
   "source": [
    "url = \"https://www.cricbuzz.com/match-api/20270/commentary.json\"\n",
    "r = requests.get(url)\n",
    "data = json.loads(r.content.decode('UTF-8'))"
   ]
  },
  {
   "cell_type": "code",
   "execution_count": 20,
   "metadata": {},
   "outputs": [],
   "source": [
    "a = b'jatin'"
   ]
  },
  {
   "cell_type": "code",
   "execution_count": 24,
   "metadata": {},
   "outputs": [
    {
     "name": "stdout",
     "output_type": "stream",
     "text": [
      "jatin\n"
     ]
    }
   ],
   "source": [
    "print(a.decode('ASCII'))"
   ]
  },
  {
   "cell_type": "code",
   "execution_count": 19,
   "metadata": {},
   "outputs": [
    {
     "data": {
      "text/plain": [
       "bytes"
      ]
     },
     "execution_count": 19,
     "metadata": {},
     "output_type": "execute_result"
    }
   ],
   "source": [
    "type(r.content)"
   ]
  },
  {
   "cell_type": "code",
   "execution_count": 16,
   "metadata": {},
   "outputs": [
    {
     "name": "stdout",
     "output_type": "stream",
     "text": [
      "India opt to bat\n"
     ]
    }
   ],
   "source": [
    "print(data['status'])"
   ]
  },
  {
   "cell_type": "code",
   "execution_count": 5,
   "metadata": {},
   "outputs": [
    {
     "name": "stdout",
     "output_type": "stream",
     "text": [
      "Done with 4\n",
      "Done with 5\n",
      "Done with 6\n",
      "Done with 7\n",
      "Done with 8\n",
      "Done with 9\n",
      "Done with 10\n",
      "Done with 11\n",
      "Done with 12\n",
      "Done with 13\n",
      "Done with 14\n",
      "Done with 15\n",
      "Done with 16\n",
      "Done with 17\n",
      "Done with 18\n",
      "Done with 19\n",
      "Done with 20\n",
      "Done with 21\n",
      "Done with 22\n",
      "Done with 23\n",
      "Done with 24\n",
      "Done with 25\n",
      "Done with 26\n",
      "Done with 27\n",
      "Done with 28\n",
      "Done with 29\n",
      "Done with 30\n",
      "Done with 31\n",
      "Done with 32\n",
      "Done with 33\n",
      "Done with 34\n",
      "Done with 35\n",
      "Done with 36\n",
      "Done with 37\n",
      "Done with 38\n",
      "Done with 39\n",
      "Done with 40\n",
      "Done with 41\n",
      "Done with 42\n",
      "Done with 43\n",
      "Done with 44\n",
      "Done with 45\n",
      "Done with 46\n",
      "Done with 47\n",
      "Done with 48\n",
      "Done with 49\n",
      "Done with 50\n",
      "Done with 51\n",
      "Done with 52\n",
      "Done with 53\n",
      "Done with 54\n",
      "Done with 55\n",
      "Done with 56\n",
      "Done with 57\n",
      "Done with 58\n",
      "Done with 59\n",
      "Done with 60\n",
      "Done with 61\n",
      "Done with 62\n",
      "Done with 63\n",
      "Done with 64\n",
      "Done with 65\n",
      "Done with 66\n",
      "Done with 67\n",
      "Done with 68\n",
      "Done with 69\n",
      "Done with 70\n",
      "Done with 71\n",
      "Done with 72\n",
      "Done with 73\n",
      "Done with 74\n",
      "Done with 75\n",
      "Done with 76\n",
      "Done with 77\n",
      "Done with 78\n",
      "Done with 79\n",
      "Done with 80\n",
      "Done with 81\n",
      "Done with 82\n",
      "Done with 83\n",
      "Done with 84\n",
      "Done with 85\n",
      "Done with 86\n",
      "Done with 87\n",
      "Done with 88\n",
      "Done with 89\n",
      "Done with 90\n",
      "Done with 91\n",
      "Done with 92\n",
      "Done with 93\n",
      "Done with 94\n",
      "Done with 95\n",
      "Done with 96\n",
      "Done with 97\n",
      "Done with 98\n",
      "Done with 99\n",
      "Done with 100\n",
      "Done with 101\n",
      "Done with 102\n",
      "Done with 103\n",
      "Done with 104\n",
      "Done with 105\n",
      "Done with 106\n",
      "Done with 107\n",
      "Done with 108\n",
      "Done with 109\n",
      "Done with 110\n",
      "Done with 111\n",
      "Done with 112\n",
      "Done with 113\n",
      "Done with 114\n",
      "Done with 115\n",
      "Done with 116\n",
      "Done with 117\n",
      "Done with 118\n",
      "Done with 119\n",
      "Done with 120\n",
      "Done with 121\n",
      "Done with 122\n",
      "Done with 123\n",
      "Done with 124\n",
      "Done with 125\n",
      "Done with 126\n",
      "Done with 127\n",
      "Done with 128\n",
      "Done with 129\n",
      "Done with 130\n",
      "Done with 131\n",
      "Done with 132\n",
      "Done with 133\n",
      "Done with 134\n",
      "Done with 135\n",
      "Done with 136\n",
      "Done with 137\n",
      "Done with 138\n",
      "Done with 139\n",
      "Done with 140\n",
      "Done with 141\n",
      "Done with 142\n",
      "Done with 143\n",
      "Done with 144\n",
      "Done with 145\n",
      "Done with 146\n",
      "Done with 147\n",
      "Done with 148\n",
      "Done with 149\n",
      "Done with 150\n",
      "Done with 151\n",
      "Done with 152\n",
      "Done with 153\n",
      "Done with 154\n",
      "Done with 155\n",
      "Done with 156\n",
      "Done with 157\n",
      "Done with 158\n",
      "Done with 159\n",
      "Done with 160\n",
      "Done with 161\n",
      "Done with 162\n",
      "Done with 163\n",
      "Done with 164\n",
      "Done with 165\n",
      "Done with 166\n",
      "Done with 167\n",
      "Done with 168\n",
      "Done with 169\n",
      "Done with 170\n",
      "Done with 171\n",
      "Done with 172\n",
      "Done with 173\n",
      "Done with 174\n",
      "Done with 175\n",
      "Done with 176\n",
      "Done with 177\n",
      "Done with 178\n",
      "Done with 179\n",
      "Done with 180\n",
      "Done with 181\n",
      "Done with 182\n",
      "Done with 183\n",
      "Done with 184\n",
      "Done with 185\n",
      "Done with 186\n",
      "Done with 187\n",
      "Done with 188\n",
      "Done with 189\n",
      "Done with 190\n",
      "Done with 191\n",
      "Done with 192\n",
      "Done with 193\n",
      "Done with 194\n",
      "Done with 195\n",
      "Done with 196\n",
      "Done with 197\n",
      "Done with 198\n",
      "Done with 199\n",
      "Done with 200\n"
     ]
    }
   ],
   "source": [
    "for i in range(4, 201):\n",
    "    try:\n",
    "        url = \"http://graph.facebook.com/{}/picture?type=large\"\n",
    "        r = requests.get(url.format(i))\n",
    "        with open(\"Facebook_creepy_AF/{}.jpg\".format(i), \"wb\") as file:\n",
    "            file.write(r.content)\n",
    "        print(\"Done with {}\".format(i))\n",
    "    except:\n",
    "        pass"
   ]
  },
  {
   "cell_type": "code",
   "execution_count": null,
   "metadata": {},
   "outputs": [],
   "source": []
  },
  {
   "cell_type": "code",
   "execution_count": null,
   "metadata": {},
   "outputs": [],
   "source": []
  },
  {
   "cell_type": "code",
   "execution_count": null,
   "metadata": {},
   "outputs": [],
   "source": []
  },
  {
   "cell_type": "markdown",
   "metadata": {},
   "source": [
    "![](https://drlongnecker.com/-/file/90/api-calls-are-easy)"
   ]
  },
  {
   "cell_type": "markdown",
   "metadata": {},
   "source": [
    "![](http://i.imgur.com/gRvt4lV.png)"
   ]
  },
  {
   "cell_type": "markdown",
   "metadata": {},
   "source": [
    "### Example 2\n",
    "\n",
    "[Google maps geocoding API](https://developers.google.com/maps/documentation/geocoding/intro)"
   ]
  },
  {
   "cell_type": "markdown",
   "metadata": {},
   "source": [
    "## POST request\n",
    "\n",
    "![](https://www.safaribooksonline.com/library/view/head-first-servlets/9780596516680/httpatomoreillycomsourceoreillyimages1377910.png.jpg)"
   ]
  },
  {
   "cell_type": "markdown",
   "metadata": {},
   "source": [
    "### Example 1\n",
    "\n",
    "[Pastebin API](https://pastebin.com/api)"
   ]
  },
  {
   "cell_type": "markdown",
   "metadata": {},
   "source": [
    "### Example 2\n",
    "\n",
    "https://m.me/mycodebot\n",
    "\n",
    "[HackeRank code checker API](https://www.hackerrank.com/api/docs)"
   ]
  },
  {
   "cell_type": "markdown",
   "metadata": {},
   "source": [
    "# 2. Downloading files\n",
    "\n",
    "![](http://noclone.net/images/file-types-s.png)\n",
    "\n",
    "Downloading large files in chunks!"
   ]
  },
  {
   "cell_type": "markdown",
   "metadata": {},
   "source": [
    "# 3. Web scraping\n",
    "\n",
    "![](https://cdn-images-1.medium.com/max/1600/0*yxxFwUEPQU3lAz4W.png)"
   ]
  },
  {
   "cell_type": "markdown",
   "metadata": {},
   "source": [
    "![](https://image.slidesharecdn.com/scrapingtotherescue-160713133749/95/getting-started-with-web-scraping-in-python-9-638.jpg?cb=1468417631)"
   ]
  },
  {
   "cell_type": "markdown",
   "metadata": {},
   "source": [
    "## [Beautiful Soup](https://www.crummy.com/software/BeautifulSoup/bs4/doc/)\n",
    "\n",
    ">Beautiful Soup is a Python library for pulling data out of HTML and XML files. It works with your favorite parser to provide idiomatic ways of navigating, searching, and modifying the parse tree. It commonly saves programmers hours or days of work.\n",
    "\n",
    "### Installation\n",
    "\n",
    "```\n",
    "pip install bs4\n",
    "```\n",
    "\n",
    "**Bonus:**\n",
    "```\n",
    "pip install html5lib\n",
    "```"
   ]
  },
  {
   "cell_type": "markdown",
   "metadata": {},
   "source": [
    "https://www.values.com/inspirational-quotes"
   ]
  },
  {
   "cell_type": "markdown",
   "metadata": {},
   "source": [
    "## 4. Sending Email\n",
    "\n",
    "![](https://camo.githubusercontent.com/ee342ab0ad69e2615876732e43e301980315359b/68747470733a2f2f6265636f6d65746865736f6c7574696f6e2e636f6d2f696d616765732f65617379626c6f675f696d616765732f3431342f736d74702d6c6f676f2e6a7067)\n",
    "\n",
    "\n",
    "**An Internet standard for electronic mail (email) transmission.**\n",
    "\n",
    "![](data:image/jpeg;base64,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)\n",
    "\n",
    "### smtplib\n",
    "\n",
    "The smtplib module defines an SMTP client session object that can be used to send mail to any Internet machine with an SMTP or ESMTP listener."
   ]
  },
  {
   "cell_type": "code",
   "execution_count": null,
   "metadata": {},
   "outputs": [],
   "source": [
    "import smtplib"
   ]
  },
  {
   "cell_type": "markdown",
   "metadata": {},
   "source": [
    "## For sending proper Email\n",
    "\n",
    "**Multipurpose Internet Mail Extensions (MIME)** is an Internet standard that extends the format of email to support:\n",
    "- Text in character sets other than ASCII\n",
    "- Non-text attachments: audio, video, images, application programs etc.\n",
    "- Message bodies with multiple parts\n",
    "- Header information in non-ASCII character sets"
   ]
  },
  {
   "cell_type": "code",
   "execution_count": null,
   "metadata": {},
   "outputs": [],
   "source": [
    "from email.mime.multipart import MIMEMultipart\n",
    "from email.mime.text import MIMEText\n",
    "from email.mime.application import MIMEApplication"
   ]
  },
  {
   "cell_type": "markdown",
   "metadata": {},
   "source": [
    "# 5. Web automation\n",
    "\n",
    "\n",
    "**Task:** Automatically submit the code for a problem on [codechef](https://www.codechef.com/).\n",
    "\n",
    "### [Selenium](http://selenium-python.readthedocs.io/) : Web automation and testing\n",
    "\n",
    "![](https://udemy-images.udemy.com/course/750x422/482754_7146_4.jpg)\n",
    "\n",
    "\n",
    "#### Installation\n",
    "\n",
    "```\n",
    "pip install selenium\n",
    "```\n",
    "\n",
    "#### To start a browser session\n",
    "```python\n",
    "from selenium import webdriver\n",
    "browser = webdriver.Firefox()\n",
    "```\n",
    "\n",
    "#### To open a webpage\n",
    "```python\n",
    "browser.get('https://www.codechef.com')\n",
    "```\n",
    "\n",
    "#### To select an element by its id\n",
    "```python\n",
    "browser.find_element_by_id(<id>)\n",
    "```\n",
    "\n",
    "#### Input value in element\n",
    "```python\n",
    "element.send_keys()\n",
    "```\n",
    "\n",
    "#### Click on an element\n",
    "```python\n",
    "element.click()\n",
    "```"
   ]
  }
 ],
 "metadata": {
  "kernelspec": {
   "display_name": "Python 3",
   "language": "python",
   "name": "python3"
  },
  "language_info": {
   "codemirror_mode": {
    "name": "ipython",
    "version": 3
   },
   "file_extension": ".py",
   "mimetype": "text/x-python",
   "name": "python",
   "nbconvert_exporter": "python",
   "pygments_lexer": "ipython3",
   "version": "3.7.0"
  }
 },
 "nbformat": 4,
 "nbformat_minor": 2
}
